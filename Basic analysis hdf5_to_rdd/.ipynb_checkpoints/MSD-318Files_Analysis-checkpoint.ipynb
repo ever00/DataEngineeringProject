{
 "cells": [
  {
   "cell_type": "code",
   "execution_count": 1,
   "id": "9a2ed10a-10d1-4734-bbdf-1d54a99fd33a",
   "metadata": {},
   "outputs": [],
   "source": [
    "#PYTHON\n",
    "import h5py\n",
    "import numpy as np\n",
    "import os\n",
    "import pandas as pd # data processing, CSV file I/O (e.g. pd.read_csv)\n",
    "import pyspark\n",
    "\n",
    "#SPARK\n",
    "from pyspark import SparkContext, SparkConf\n",
    "from pyspark.sql import SparkSession, SQLContext\n",
    "from pyspark.sql.types import *\n",
    "from pyspark.sql import Row\n",
    "from pyspark.sql.functions import *\n",
    "from operator import add"
   ]
  },
  {
   "cell_type": "markdown",
   "id": "1c3096f2-39bc-4025-9c2c-a216255bdf3f",
   "metadata": {},
   "source": [
    "Spark Configuration"
   ]
  },
  {
   "cell_type": "code",
   "execution_count": 2,
   "id": "6fb6d6aa-4b8d-4c65-8dc1-a61c5d94018d",
   "metadata": {},
   "outputs": [
    {
     "name": "stderr",
     "output_type": "stream",
     "text": [
      "Setting default log level to \"WARN\".\n",
      "To adjust logging level use sc.setLogLevel(newLevel). For SparkR, use setLogLevel(newLevel).\n",
      "24/03/01 12:53:40 WARN NativeCodeLoader: Unable to load native-hadoop library for your platform... using builtin-java classes where applicable\n",
      "/home/ubuntu/.local/lib/python3.8/site-packages/pyspark/sql/context.py:113: FutureWarning: Deprecated in 3.0.0. Use SparkSession.builder.getOrCreate() instead.\n",
      "  warnings.warn(\n"
     ]
    }
   ],
   "source": [
    "# Spark Session - 2 CORE - imporvement CONFIGURATION!!\n",
    "spark_session = SparkSession.builder\\\n",
    "    .master(\"local[2]\")\\\n",
    "    .appName(\"pseudo_spark_nora\")\\\n",
    "    .getOrCreate()\n",
    "\n",
    "# RDD API\n",
    "spark_context = spark_session.sparkContext\n",
    "spark_context.setLogLevel(\"INFO\")\n",
    "\n",
    "sqlContext = SQLContext(spark_session.sparkContext)"
   ]
  },
  {
   "cell_type": "markdown",
   "id": "44667861-4446-4677-adf9-5acf17142cc4",
   "metadata": {},
   "source": [
    "File Path"
   ]
  },
  {
   "cell_type": "code",
   "execution_count": 3,
   "id": "85b6e7bf-1a3a-4aab-af97-04bad4192b34",
   "metadata": {},
   "outputs": [],
   "source": [
    "#file_roots = ['hdfs://130.238.29.183:9000//input/millionsongsubset.tar.gz']\n",
    "#directory_path = \"data/B/A/A\"\n",
    "directory_path = \"data_AZ\""
   ]
  },
  {
   "cell_type": "markdown",
   "id": "1333b60e-ef05-446a-86ff-7c0cbcd0a7c7",
   "metadata": {},
   "source": [
    "# 1) Saving the paths to the HDF5 files"
   ]
  },
  {
   "cell_type": "code",
   "execution_count": 4,
   "id": "60b92eef-ad69-49de-8bb6-fc9907ff326f",
   "metadata": {},
   "outputs": [
    {
     "name": "stdout",
     "output_type": "stream",
     "text": [
      "319 filenames gathered (PYTHON)\n"
     ]
    }
   ],
   "source": [
    "# GET .H5 FILENAMES\n",
    "h5_file_paths = []\n",
    "for root, _, files in os.walk(directory_path):\n",
    "    for name in files:\n",
    "        h5_file_paths.append(os.path.join(root, name))\n",
    "\n",
    "print('{} filenames gathered (PYTHON)'.format(len(h5_file_paths)))"
   ]
  },
  {
   "cell_type": "markdown",
   "id": "1fa39ddd-8486-42f6-86fd-dc7741270519",
   "metadata": {},
   "source": [
    "# 2) List h5_file_paths is converted to RDD"
   ]
  },
  {
   "cell_type": "code",
   "execution_count": 5,
   "id": "a776fd3f-ad71-4b9e-96a0-0d37cc0aad7a",
   "metadata": {},
   "outputs": [
    {
     "data": {
      "text/plain": [
       "['data_AZ/A/Z/TRAAZQW128F93430DC.h5',\n",
       " 'data_AZ/A/Z/TRAAZIE128F427961E.h5',\n",
       " 'data_AZ/A/Z/TRAAZBD128F427A97D.h5',\n",
       " 'data_AZ/A/Z/TRAAZBX128F1492AF8.h5',\n",
       " 'data_AZ/A/Z/TRAAZKV12903CDDFE0.h5',\n",
       " 'data_AZ/A/Z/TRAAZLK128F93586D6.h5',\n",
       " 'data_AZ/A/Z/TRAAZOZ12903C9CABF.h5',\n",
       " 'data_AZ/A/Z/TRAAZJU12903C980B6.h5',\n",
       " 'data_AZ/A/Z/TRAAZGC12903CB5DFB.h5',\n",
       " 'data_AZ/A/Z/TRAAZHO128F427C9EC.h5',\n",
       " 'data_AZ/A/Z/TRAAZQF128F4285BC3.h5',\n",
       " 'data_AZ/A/Z/TRAAZYI12903CB2EE4.h5',\n",
       " 'data_AZ/A/Z/TRAAZPJ128F4292DB5.h5',\n",
       " 'data_AZ/A/C/TRAACOW128F933E35F.h5',\n",
       " 'data_AZ/A/C/TRAACPE128F421C1B9.h5',\n",
       " 'data_AZ/A/C/TRAACSL128F93462F4.h5',\n",
       " 'data_AZ/A/C/TRAACIW12903CC0F6D.h5',\n",
       " 'data_AZ/A/C/TRAACNS128F14A2DF5.h5',\n",
       " 'data_AZ/A/C/TRAACFV128F935E50B.h5',\n",
       " 'data_AZ/A/C/TRAACCG128F92E8A55.h5',\n",
       " 'data_AZ/A/C/TRAACER128F4290F96.h5',\n",
       " 'data_AZ/A/C/TRAACVS128E078BE39.h5',\n",
       " 'data_AZ/A/C/TRAACQT128F9331780.h5',\n",
       " 'data_AZ/A/C/TRAACLV128F427E123.h5',\n",
       " 'data_AZ/A/C/TRAACZK128F4243829.h5',\n",
       " 'data_AZ/A/C/TRAACHN128F1489601.h5',\n",
       " 'data_AZ/A/C/TRAACTB12903CAAF15.h5',\n",
       " 'data_AZ/A/G/TRAAGVM128E0784D95.h5',\n",
       " 'data_AZ/A/G/TRAAGPH128F4273C8D.h5',\n",
       " 'data_AZ/A/G/TRAAGKS128F9314884.h5',\n",
       " 'data_AZ/A/G/TRAAGHM128EF35CF8E.h5',\n",
       " 'data_AZ/A/G/TRAAGGE128F9325E2C.h5',\n",
       " 'data_AZ/A/G/TRAAGOH128F42593CE.h5',\n",
       " 'data_AZ/A/G/TRAAGXN128F92DE52C.h5',\n",
       " 'data_AZ/A/G/TRAAGVF128E0789785.h5',\n",
       " 'data_AZ/A/G/TRAAGEC128E079252C.h5',\n",
       " 'data_AZ/A/G/TRAAGMJ12903CAD7D4.h5',\n",
       " 'data_AZ/A/G/TRAAGNL128F4299BF1.h5',\n",
       " 'data_AZ/A/G/TRAAGPJ128F428CD1B.h5',\n",
       " 'data_AZ/A/G/TRAAGKF128F932D5A2.h5',\n",
       " 'data_AZ/A/G/TRAAGZU128EF360F47.h5',\n",
       " 'data_AZ/A/G/TRAAGJV128F1464090.h5',\n",
       " 'data_AZ/A/G/TRAAGCZ128F93210FD.h5',\n",
       " 'data_AZ/A/G/TRAAGPF12903CE027E.h5',\n",
       " 'data_AZ/A/G/TRAAGUA128F93236E8.h5',\n",
       " 'data_AZ/A/G/TRAAGKQ128F92EAF39.h5',\n",
       " 'data_AZ/A/W/TRAAWVQ128F9313D31.h5',\n",
       " 'data_AZ/A/W/TRAAWGY128F4298A09.h5',\n",
       " 'data_AZ/A/W/TRAAWAD128F92FA59F.h5',\n",
       " 'data_AZ/A/W/TRAAWUM128F426009A.h5',\n",
       " 'data_AZ/A/W/TRAAWOR128F92DF3C8.h5',\n",
       " 'data_AZ/A/W/TRAAWUH128F427F12C.h5',\n",
       " 'data_AZ/A/W/TRAAWQD12903CAA968.h5',\n",
       " 'data_AZ/A/W/TRAAWDK128F92E2A17.h5',\n",
       " 'data_AZ/A/N/TRAANRI12903CD0A9C.h5',\n",
       " 'data_AZ/A/N/TRAANKK128F42531BC.h5',\n",
       " 'data_AZ/A/N/TRAANMF12903CEAFEF.h5',\n",
       " 'data_AZ/A/N/TRAANLO128F422AE37.h5',\n",
       " 'data_AZ/A/N/TRAANTZ128E0792529.h5',\n",
       " 'data_AZ/A/N/TRAANTD128F9323B23.h5',\n",
       " 'data_AZ/A/N/TRAANBH128F9345A6C.h5',\n",
       " 'data_AZ/A/N/TRAANLZ128F934EC42.h5',\n",
       " 'data_AZ/A/Q/TRAAQFC128F425ED83.h5',\n",
       " 'data_AZ/A/Q/TRAAQLJ128F428E870.h5',\n",
       " 'data_AZ/A/Q/TRAAQEV12903CB5459.h5',\n",
       " 'data_AZ/A/Q/TRAAQZQ128EF35C51A.h5',\n",
       " 'data_AZ/A/Q/TRAAQUC128F9322A82.h5',\n",
       " 'data_AZ/A/Q/TRAAQYN128F92ED77E.h5',\n",
       " 'data_AZ/A/Q/TRAAQOH128F4265CE6.h5',\n",
       " 'data_AZ/A/Q/TRAAQYU12903CE68CE.h5',\n",
       " 'data_AZ/A/Q/TRAAQUF12903CDF4A4.h5',\n",
       " 'data_AZ/A/Q/TRAAQWF128F92D1AAD.h5',\n",
       " 'data_AZ/A/Q/TRAAQIH128F428BDEA.h5',\n",
       " 'data_AZ/A/Q/TRAAQPS128F429161D.h5',\n",
       " 'data_AZ/A/Q/TRAAQDL12903CA8FB5.h5',\n",
       " 'data_AZ/A/Q/TRAAQZF12903CEDCB8.h5',\n",
       " 'data_AZ/A/Q/TRAAQBF12903CF796B.h5',\n",
       " 'data_AZ/A/Q/TRAAQCK128F92E8C33.h5',\n",
       " 'data_AZ/A/Q/TRAAQLE128F424AE71.h5',\n",
       " 'data_AZ/A/Q/TRAAQDJ128F92F95E0.h5',\n",
       " 'data_AZ/A/Y/TRAAYCQ128F425EE32.h5',\n",
       " 'data_AZ/A/Y/TRAAYVL128F1473727.h5',\n",
       " 'data_AZ/A/Y/TRAAYGH128F92ECD16.h5',\n",
       " 'data_AZ/A/Y/TRAAYPN128F9340DDF.h5',\n",
       " 'data_AZ/A/Y/TRAAYPG128F933C941.h5',\n",
       " 'data_AZ/A/Y/TRAAYRA128F92E9CC7.h5',\n",
       " 'data_AZ/A/Y/TRAAYNQ128EF35922B.h5',\n",
       " 'data_AZ/A/Y/TRAAYTI128F933663B.h5',\n",
       " 'data_AZ/A/J/TRAAJXQ128F92E65BF.h5',\n",
       " 'data_AZ/A/J/TRAAJAC128F148B530.h5',\n",
       " 'data_AZ/A/J/TRAAJNM12903CF4750.h5',\n",
       " 'data_AZ/A/J/TRAAJBU12903CE2831.h5',\n",
       " 'data_AZ/A/J/TRAAJJG128F4284B27.h5',\n",
       " 'data_AZ/A/J/TRAAJBU128F9326C02.h5',\n",
       " 'data_AZ/A/J/TRAAJVJ128F42570AD.h5',\n",
       " 'data_AZ/A/J/TRAAJMH128E0785407.h5',\n",
       " 'data_AZ/A/J/TRAAJYX128F4255568.h5',\n",
       " 'data_AZ/A/J/TRAAJJV128F42A2F99.h5',\n",
       " 'data_AZ/A/J/TRAAJEK12903CE351A.h5',\n",
       " 'data_AZ/A/J/TRAAJEK128F422F55A.h5',\n",
       " 'data_AZ/A/J/TRAAJJA12903CC518A.h5',\n",
       " 'data_AZ/A/J/TRAAJSX128F4275A1D.h5',\n",
       " 'data_AZ/A/A/TRAAAVG12903CFA543.h5',\n",
       " 'data_AZ/A/A/TRAAAFD128F92F423A.h5',\n",
       " 'data_AZ/A/A/TRAAAMO128F1481E7F.h5',\n",
       " 'data_AZ/A/A/TRAAADZ128F9348C2E.h5',\n",
       " 'data_AZ/A/A/TRAAABD128F429CF47.h5',\n",
       " 'data_AZ/A/A/TRAAAPK128E0786D96.h5',\n",
       " 'data_AZ/A/A/TRAAAEF128F4273421.h5',\n",
       " 'data_AZ/A/A/TRAAARJ128F9320760.h5',\n",
       " 'data_AZ/A/A/TRAAAMQ128F1460CD3.h5',\n",
       " 'data_AZ/A/A/TRAAAAW128F429D538.h5',\n",
       " 'data_AZ/A/A/TRAAAVO128F93133D4.h5',\n",
       " 'data_AZ/A/K/TRAAKJJ128F4228346.h5',\n",
       " 'data_AZ/A/K/TRAAKAV128F931BE25.h5',\n",
       " 'data_AZ/A/K/TRAAKSB128F934D73A.h5',\n",
       " 'data_AZ/A/K/TRAAKVA128F934E69E.h5',\n",
       " 'data_AZ/A/K/TRAAKDG128F42A0ECB.h5',\n",
       " 'data_AZ/A/K/TRAAKAS128F4246013.h5',\n",
       " 'data_AZ/A/K/TRAAKTK128F9343DCC.h5',\n",
       " 'data_AZ/A/K/TRAAKDF128F92FA302.h5',\n",
       " 'data_AZ/A/K/TRAAKNS12903CC5198.h5',\n",
       " 'data_AZ/A/K/TRAAKXN128F92E71B1.h5',\n",
       " 'data_AZ/A/K/TRAAKVD12903CE8474.h5',\n",
       " 'data_AZ/A/K/TRAAKQS128F4224DE1.h5',\n",
       " 'data_AZ/A/K/TRAAKVZ12903D074BB.h5',\n",
       " 'data_AZ/A/X/TRAAXKI128F92DAC1B.h5',\n",
       " 'data_AZ/A/X/TRAAXTY128F42725BC.h5',\n",
       " 'data_AZ/A/X/TRAAXMX128F9307699.h5',\n",
       " 'data_AZ/A/X/TRAAXCM128F427F97B.h5',\n",
       " 'data_AZ/A/X/TRAAXUY128F426BA55.h5',\n",
       " 'data_AZ/A/X/TRAAXIR128F92D1938.h5',\n",
       " 'data_AZ/A/X/TRAAXPA128F92FC706.h5',\n",
       " 'data_AZ/A/X/TRAAXEJ12903CA7253.h5',\n",
       " 'data_AZ/A/X/TRAAXMC128F14A53EA.h5',\n",
       " 'data_AZ/A/V/TRAAVAH128F4284D7C.h5',\n",
       " 'data_AZ/A/V/TRAAVIH12903CFAC90.h5',\n",
       " 'data_AZ/A/V/TRAAVRJ128F92FF90A.h5',\n",
       " 'data_AZ/A/V/TRAAVNN128F428A85D.h5',\n",
       " 'data_AZ/A/V/TRAAVJL128F14ACADD.h5',\n",
       " 'data_AZ/A/V/TRAAVGB12903CFAA99.h5',\n",
       " 'data_AZ/A/V/TRAAVOK12903CC4773.h5',\n",
       " 'data_AZ/A/V/TRAAVOU128F422F292.h5',\n",
       " 'data_AZ/A/V/TRAAVKY12903CBBB93.h5',\n",
       " 'data_AZ/A/V/TRAAVDZ128F148C948.h5',\n",
       " 'data_AZ/A/V/TRAAVIT128F92E657C.h5',\n",
       " 'data_AZ/A/R/TRAARRG12903CDB456.h5',\n",
       " 'data_AZ/A/R/TRAARHS128F931689D.h5',\n",
       " 'data_AZ/A/R/TRAARSF12903CD1B12.h5',\n",
       " 'data_AZ/A/R/TRAARUN128F932B1A0.h5',\n",
       " 'data_AZ/A/T/TRAATOA12903CAD615.h5',\n",
       " 'data_AZ/A/T/TRAATQC128F425AF61.h5',\n",
       " 'data_AZ/A/T/TRAATNJ128F42631BA.h5',\n",
       " 'data_AZ/A/T/TRAATNN128F92FD35F.h5',\n",
       " 'data_AZ/A/T/TRAATMY128F9334DAC.h5',\n",
       " 'data_AZ/A/T/TRAATJK128F9339179.h5',\n",
       " 'data_AZ/A/T/TRAATIU128F4291A84.h5',\n",
       " 'data_AZ/A/T/TRAATWQ12903CC5BA8.h5',\n",
       " 'data_AZ/A/T/TRAATBN128F14ACE82.h5',\n",
       " 'data_AZ/A/T/TRAATZQ128F425E5F1.h5',\n",
       " 'data_AZ/A/T/TRAATMY128F149562F.h5',\n",
       " 'data_AZ/A/T/TRAATPA128F146753C.h5',\n",
       " 'data_AZ/A/T/TRAATXO128F92D97A6.h5',\n",
       " 'data_AZ/A/T/TRAATLC12903D0172B.h5',\n",
       " 'data_AZ/A/T/TRAATGM12903C9CD7C.h5',\n",
       " 'data_AZ/A/F/TRAAFKJ12903D02552.h5',\n",
       " 'data_AZ/A/F/TRAAFEB128F92F8694.h5',\n",
       " 'data_AZ/A/F/TRAAFSM128F425A2C5.h5',\n",
       " 'data_AZ/A/F/TRAAFJW128F428A424.h5',\n",
       " 'data_AZ/A/F/TRAAFON128F42926FB.h5',\n",
       " 'data_AZ/A/F/TRAAFUJ128F933F42B.h5',\n",
       " 'data_AZ/A/F/TRAAFRU128F9339158.h5',\n",
       " 'data_AZ/A/F/TRAAFMS128F933AB23.h5',\n",
       " 'data_AZ/A/F/TRAAFYL128E07856A7.h5',\n",
       " 'data_AZ/A/I/TRAAIRG128F93265E8.h5',\n",
       " 'data_AZ/A/I/TRAAIDY128F92CA454.h5',\n",
       " 'data_AZ/A/I/TRAAIXN128F428027A.h5',\n",
       " 'data_AZ/A/I/TRAAIAE128F42AC53D.h5',\n",
       " 'data_AZ/A/I/TRAAIFG12903CB0BCB.h5',\n",
       " 'data_AZ/A/I/TRAAIGD12903CA2F3C.h5',\n",
       " 'data_AZ/A/I/TRAAIBB12903CECB35.h5',\n",
       " 'data_AZ/A/I/TRAAINT128F933BBE0.h5',\n",
       " 'data_AZ/A/I/TRAAIXU128F4241E5C.h5',\n",
       " 'data_AZ/A/I/TRAAIAX128F930531B.h5',\n",
       " 'data_AZ/A/I/TRAAIIE128F4288BB1.h5',\n",
       " 'data_AZ/A/I/TRAAIAN12903CFF16D.h5',\n",
       " 'data_AZ/A/I/TRAAIII128F427D5D8.h5',\n",
       " 'data_AZ/A/I/TRAAIHL128F92E6DDA.h5',\n",
       " 'data_AZ/A/I/TRAAIYR12903CD290D.h5',\n",
       " 'data_AZ/A/I/TRAAILM128F93480BB.h5',\n",
       " 'data_AZ/A/M/TRAAMZR128F9315DCC.h5',\n",
       " 'data_AZ/A/M/TRAAMYQ128F148B753.h5',\n",
       " 'data_AZ/A/M/TRAAMFG128F92FDEA2.h5',\n",
       " 'data_AZ/A/M/TRAAMII128F933B583.h5',\n",
       " 'data_AZ/A/M/TRAAMKL128F9347D8A.h5',\n",
       " 'data_AZ/A/M/TRAAMJY128F92F5919.h5',\n",
       " 'data_AZ/A/M/TRAAMZB12903CAB002.h5',\n",
       " 'data_AZ/A/M/TRAAMES128F42AF068.h5',\n",
       " 'data_AZ/A/M/TRAAMKW128F4249CF0.h5',\n",
       " 'data_AZ/A/M/TRAAMGJ12903CD315C.h5',\n",
       " 'data_AZ/A/M/TRAAMKP12903CC74F4.h5',\n",
       " 'data_AZ/A/M/TRAAMKI128F428537A.h5',\n",
       " 'data_AZ/A/M/TRAAMSO128EF348DCC.h5',\n",
       " 'data_AZ/A/M/TRAAMPA128F92E7D0D.h5',\n",
       " 'data_AZ/A/M/TRAAMFT128F93128AD.h5',\n",
       " 'data_AZ/A/M/TRAAMXP128F4264F6A.h5',\n",
       " 'data_AZ/A/O/TRAAOIN128F9303790.h5',\n",
       " 'data_AZ/A/O/TRAAOTT128F9342E04.h5',\n",
       " 'data_AZ/A/O/TRAAOTT128F14AE002.h5',\n",
       " 'data_AZ/A/O/TRAAORY128F934984F.h5',\n",
       " 'data_AZ/A/O/TRAAOEH128F426A82F.h5',\n",
       " 'data_AZ/A/O/TRAAOPW128F428AE31.h5',\n",
       " 'data_AZ/A/O/TRAAOTD128F42322FC.h5',\n",
       " 'data_AZ/A/O/TRAAOJI128F1458DCD.h5',\n",
       " 'data_AZ/A/O/TRAAODT12903D0D16E.h5',\n",
       " 'data_AZ/A/O/TRAAOYG128F9314996.h5',\n",
       " 'data_AZ/A/O/TRAAOXM12903CFB3B0.h5',\n",
       " 'data_AZ/A/P/TRAAPQQ128F427C750.h5',\n",
       " 'data_AZ/A/P/TRAAPSQ12903CAE86A.h5',\n",
       " 'data_AZ/A/P/TRAAPXK128F934DF25.h5',\n",
       " 'data_AZ/A/P/TRAAPGF128F1458F8B.h5',\n",
       " 'data_AZ/A/P/TRAAPCC128F42519A7.h5',\n",
       " 'data_AZ/A/P/TRAAPIV128F1493132.h5',\n",
       " 'data_AZ/A/P/TRAAPPQ128F14961F5.h5',\n",
       " 'data_AZ/A/P/TRAAPLS12903CB2D40.h5',\n",
       " 'data_AZ/A/P/TRAAPWD128F931ACD4.h5',\n",
       " 'data_AZ/A/P/TRAAPVV128F425D64C.h5',\n",
       " 'data_AZ/A/P/TRAAPFQ128F42684DB.h5',\n",
       " 'data_AZ/A/L/TRAALRZ128F429024E.h5',\n",
       " 'data_AZ/A/L/TRAALDU128F930D56B.h5',\n",
       " 'data_AZ/A/L/TRAALZN128F932D457.h5',\n",
       " 'data_AZ/A/L/TRAALUX12903CFD50B.h5',\n",
       " 'data_AZ/A/L/TRAALZC128F92E11A6.h5',\n",
       " 'data_AZ/A/L/TRAALEO128F42A7AEA.h5',\n",
       " 'data_AZ/A/L/TRAALCM128F4264370.h5',\n",
       " 'data_AZ/A/L/TRAALSV128F4282B9B.h5',\n",
       " 'data_AZ/A/L/TRAALNG12903D014E9.h5',\n",
       " 'data_AZ/A/L/TRAALHD12903D0BD6A.h5',\n",
       " 'data_AZ/A/B/TRAABCL128F4286650.h5',\n",
       " 'data_AZ/A/B/TRAABYW128F4244559.h5',\n",
       " 'data_AZ/A/B/TRAABRB128F9306DD5.h5',\n",
       " 'data_AZ/A/B/TRAABJL12903CDCF1A.h5',\n",
       " 'data_AZ/A/B/TRAABNV128F425CEE1.h5',\n",
       " 'data_AZ/A/B/TRAABYN12903CFD305.h5',\n",
       " 'data_AZ/A/B/TRAABJV128F1460C49.h5',\n",
       " 'data_AZ/A/B/TRAABVM128F92CA9DC.h5',\n",
       " 'data_AZ/A/B/TRAABLR128F423B7E3.h5',\n",
       " 'data_AZ/A/B/TRAABDL12903CAABBA.h5',\n",
       " 'data_AZ/A/B/TRAABXG128F9318EBD.h5',\n",
       " 'data_AZ/A/E/TRAAEEH128E0795DFE.h5',\n",
       " 'data_AZ/A/E/TRAAEWG128F930B3A4.h5',\n",
       " 'data_AZ/A/E/TRAAEUB12903CDD3EA.h5',\n",
       " 'data_AZ/A/E/TRAAELO128F9302DD1.h5',\n",
       " 'data_AZ/A/E/TRAAEXM128F92D47C8.h5',\n",
       " 'data_AZ/A/E/TRAAERU128F930674F.h5',\n",
       " 'data_AZ/A/E/TRAAEMJ128F425A917.h5',\n",
       " 'data_AZ/A/E/TRAAEDJ12903CCE390.h5',\n",
       " 'data_AZ/A/E/TRAAEAM128F934B199.h5',\n",
       " 'data_AZ/A/E/TRAAENP128F147BF32.h5',\n",
       " 'data_AZ/A/E/TRAAENC128F1451DE9.h5',\n",
       " 'data_AZ/A/E/TRAAEOU128F9309DE0.h5',\n",
       " 'data_AZ/A/D/TRAADYI128E078FB38.h5',\n",
       " 'data_AZ/A/D/TRAADMH128F9343E59.h5',\n",
       " 'data_AZ/A/D/TRAADQX128F422B4CF.h5',\n",
       " 'data_AZ/A/D/TRAADDS128F425C68B.h5',\n",
       " 'data_AZ/A/D/TRAADIV12903CB15C1.h5',\n",
       " 'data_AZ/A/D/TRAADLN128F14832E9.h5',\n",
       " 'data_AZ/A/D/TRAADLR12903CF8D7E.h5',\n",
       " 'data_AZ/A/D/TRAADYB128F92D7E73.h5',\n",
       " 'data_AZ/A/D/TRAADNA128F9331246.h5',\n",
       " 'data_AZ/A/D/TRAADVH128EF34DE7A.h5',\n",
       " 'data_AZ/A/D/TRAADED128F42741FD.h5',\n",
       " 'data_AZ/A/D/TRAADRN128F932D607.h5',\n",
       " 'data_AZ/A/D/TRAADEV128F9348C0A.h5',\n",
       " 'data_AZ/A/D/TRAADOF12903CAA1C1.h5',\n",
       " 'data_AZ/A/D/TRAADLX128F1469250.h5',\n",
       " 'data_AZ/A/D/TRAADLH12903CA70EE.h5',\n",
       " 'data_AZ/A/D/TRAADHS12903CE70A9.h5',\n",
       " 'data_AZ/A/S/TRAASKO128F427CE1C.h5',\n",
       " 'data_AZ/A/S/TRAASFP128F42980BD.h5',\n",
       " 'data_AZ/A/S/TRAASKQ128F4265E04.h5',\n",
       " 'data_AZ/A/S/TRAASSO12903CDD2FF.h5',\n",
       " 'data_AZ/A/S/TRAASEO128F9337C48.h5',\n",
       " 'data_AZ/A/S/TRAASOD128F428154C.h5',\n",
       " 'data_AZ/A/S/TRAASGM128EF34DBB0.h5',\n",
       " 'data_AZ/A/S/TRAASIG128F92C3A6B.h5',\n",
       " 'data_AZ/A/S/TRAASUZ128F9314950.h5',\n",
       " 'data_AZ/A/S/TRAASQC128F93480F0.h5',\n",
       " 'data_AZ/A/S/TRAASZE128F93499AE.h5',\n",
       " 'data_AZ/A/S/TRAASDM12903CD474E.h5',\n",
       " 'data_AZ/A/S/TRAASYO128F4263883.h5',\n",
       " 'data_AZ/A/U/TRAAUSW128F426646E.h5',\n",
       " 'data_AZ/A/U/TRAAUZI12903CAFD53.h5',\n",
       " 'data_AZ/A/U/TRAAUEO128E0780CB9.h5',\n",
       " 'data_AZ/A/U/TRAAUKK128F933A680.h5',\n",
       " 'data_AZ/A/U/TRAAUGD128F42734DA.h5',\n",
       " 'data_AZ/A/U/TRAAUZX128F92F3D53.h5',\n",
       " 'data_AZ/A/U/TRAAUIH128F4254C9D.h5',\n",
       " 'data_AZ/A/U/TRAAUMZ12903CA97DC.h5',\n",
       " 'data_AZ/A/U/TRAAUWD128F930DD4E.h5',\n",
       " 'data_AZ/A/U/TRAAUMN128F4273561.h5',\n",
       " 'data_AZ/A/U/TRAAUDN128F933F20D.h5',\n",
       " 'data_AZ/A/U/TRAAUGZ128F9307F78.h5',\n",
       " 'data_AZ/A/U/TRAAUMJ128F933BDB6.h5',\n",
       " 'data_AZ/A/H/TRAAHDH128F93094B6.h5',\n",
       " 'data_AZ/A/H/TRAAHMO128F92DE7C9.h5',\n",
       " 'data_AZ/A/H/TRAAHZP12903CA25F4.h5',\n",
       " 'data_AZ/A/H/TRAAHEG128E07861C3.h5',\n",
       " 'data_AZ/A/H/TRAAHRF128F92FE234.h5',\n",
       " 'data_AZ/A/H/TRAAHTH12903CCFFE1.h5',\n",
       " 'data_AZ/A/H/TRAAHJX128F9312B83.h5',\n",
       " 'data_AZ/A/H/TRAAHER128F92E3FE9.h5',\n",
       " 'data_AZ/A/H/TRAAHVY128F92E25D6.h5',\n",
       " 'data_AZ/A/H/TRAAHEQ128F93057B4.h5',\n",
       " 'data_AZ/A/H/TRAAHEH128F427FCEF.h5',\n",
       " 'data_AZ/A/H/TRAAHYV128F932A425.h5',\n",
       " 'data_AZ/A/H/TRAAHKE128F421389B.h5',\n",
       " 'data_AZ/A/H/TRAAHXN128F9326097.h5',\n",
       " 'data_AZ/A/H/TRAAHPZ12903CB4643.h5']"
      ]
     },
     "execution_count": 5,
     "metadata": {},
     "output_type": "execute_result"
    }
   ],
   "source": [
    "h5_file_paths"
   ]
  },
  {
   "cell_type": "code",
   "execution_count": 6,
   "id": "cd1391e3-6cfe-4623-bc8e-d21ac0212b86",
   "metadata": {},
   "outputs": [
    {
     "data": {
      "text/plain": [
       "ParallelCollectionRDD[0] at readRDDFromFile at PythonRDD.scala:289"
      ]
     },
     "execution_count": 6,
     "metadata": {},
     "output_type": "execute_result"
    }
   ],
   "source": [
    "file_paths = spark_context.parallelize(h5_file_paths)\n",
    "file_paths"
   ]
  },
  {
   "cell_type": "code",
   "execution_count": 7,
   "id": "dc5b8a3d-e994-4f86-8feb-e66f5105e5f2",
   "metadata": {},
   "outputs": [
    {
     "name": "stderr",
     "output_type": "stream",
     "text": [
      "24/03/01 12:54:00 INFO SparkContext: Starting job: runJob at PythonRDD.scala:181\n",
      "24/03/01 12:54:00 INFO DAGScheduler: Got job 0 (runJob at PythonRDD.scala:181) with 1 output partitions\n",
      "24/03/01 12:54:00 INFO DAGScheduler: Final stage: ResultStage 0 (runJob at PythonRDD.scala:181)\n",
      "24/03/01 12:54:00 INFO DAGScheduler: Parents of final stage: List()\n",
      "24/03/01 12:54:00 INFO DAGScheduler: Missing parents: List()\n",
      "24/03/01 12:54:00 INFO DAGScheduler: Submitting ResultStage 0 (PythonRDD[1] at RDD at PythonRDD.scala:53), which has no missing parents\n",
      "24/03/01 12:54:00 INFO MemoryStore: Block broadcast_0 stored as values in memory (estimated size 5.8 KiB, free 413.9 MiB)\n",
      "24/03/01 12:54:00 INFO MemoryStore: Block broadcast_0_piece0 stored as bytes in memory (estimated size 3.8 KiB, free 413.9 MiB)\n",
      "24/03/01 12:54:00 INFO BlockManagerInfo: Added broadcast_0_piece0 in memory on host-192-168-2-34-de1:40527 (size: 3.8 KiB, free: 413.9 MiB)\n",
      "24/03/01 12:54:00 INFO SparkContext: Created broadcast 0 from broadcast at DAGScheduler.scala:1580\n",
      "24/03/01 12:54:01 INFO DAGScheduler: Submitting 1 missing tasks from ResultStage 0 (PythonRDD[1] at RDD at PythonRDD.scala:53) (first 15 tasks are for partitions Vector(0))\n",
      "24/03/01 12:54:01 INFO TaskSchedulerImpl: Adding task set 0.0 with 1 tasks resource profile 0\n",
      "24/03/01 12:54:01 INFO TaskSetManager: Starting task 0.0 in stage 0.0 (TID 0) (host-192-168-2-34-de1, executor driver, partition 0, PROCESS_LOCAL, 13345 bytes) \n",
      "24/03/01 12:54:01 INFO Executor: Running task 0.0 in stage 0.0 (TID 0)\n",
      "24/03/01 12:54:02 INFO PythonRunner: Times: total = 823, boot = 799, init = 23, finish = 1\n",
      "24/03/01 12:54:02 INFO Executor: Finished task 0.0 in stage 0.0 (TID 0). 1400 bytes result sent to driver\n",
      "24/03/01 12:54:02 INFO TaskSetManager: Finished task 0.0 in stage 0.0 (TID 0) in 1201 ms on host-192-168-2-34-de1 (executor driver) (1/1)\n",
      "24/03/01 12:54:02 INFO TaskSchedulerImpl: Removed TaskSet 0.0, whose tasks have all completed, from pool \n",
      "24/03/01 12:54:02 INFO PythonAccumulatorV2: Connected to AccumulatorServer at host: 127.0.0.1 port: 40993\n",
      "24/03/01 12:54:02 INFO DAGScheduler: ResultStage 0 (runJob at PythonRDD.scala:181) finished in 1.704 s\n",
      "24/03/01 12:54:02 INFO DAGScheduler: Job 0 is finished. Cancelling potential speculative or zombie tasks for this job\n",
      "24/03/01 12:54:02 INFO TaskSchedulerImpl: Killing all running tasks in stage 0: Stage finished\n",
      "24/03/01 12:54:02 INFO DAGScheduler: Job 0 finished: runJob at PythonRDD.scala:181, took 1.868961 s\n",
      "                                                                                \r"
     ]
    },
    {
     "data": {
      "text/plain": [
       "'data_AZ/A/Z/TRAAZQW128F93430DC.h5'"
      ]
     },
     "execution_count": 7,
     "metadata": {},
     "output_type": "execute_result"
    }
   ],
   "source": [
    "file_first = file_paths.first()\n",
    "file_first"
   ]
  },
  {
   "cell_type": "markdown",
   "id": "2a5f78bb-e817-474d-acf5-c0c33bed8740",
   "metadata": {},
   "source": [
    "# 3) H5Py file object file creation from the H5 file "
   ]
  },
  {
   "cell_type": "code",
   "execution_count": 8,
   "id": "9b6da36c-82e1-4874-af26-f0d9bcbb5800",
   "metadata": {},
   "outputs": [],
   "source": [
    "def extract_info(file_path):\n",
    "    with h5py.File(file_path, 'r') as file:\n",
    "        # Informationen extrahieren\n",
    "        song = file['analysis']['songs']\n",
    "        np_song = np.array(song[0])\n",
    "        selected_features = np_song[['danceability', 'duration', 'tempo', 'energy', 'loudness']].ravel()\n",
    "        return selected_features.tolist()"
   ]
  },
  {
   "cell_type": "code",
   "execution_count": 9,
   "id": "1ffc9696-8ccd-476e-8fe4-867491f32e6f",
   "metadata": {},
   "outputs": [],
   "source": [
    "#file = h5py.File(file_first)\n",
    "files_infos_rdd = file_paths.map(extract_info)"
   ]
  },
  {
   "cell_type": "code",
   "execution_count": 11,
   "id": "7e29e487-ef1d-46c0-829f-708203dafb36",
   "metadata": {},
   "outputs": [
    {
     "name": "stderr",
     "output_type": "stream",
     "text": [
      "24/03/01 12:54:10 INFO SparkContext: Starting job: collect at /tmp/ipykernel_56411/3743736607.py:1\n",
      "24/03/01 12:54:10 INFO DAGScheduler: Got job 2 (collect at /tmp/ipykernel_56411/3743736607.py:1) with 2 output partitions\n",
      "24/03/01 12:54:10 INFO DAGScheduler: Final stage: ResultStage 2 (collect at /tmp/ipykernel_56411/3743736607.py:1)\n",
      "24/03/01 12:54:10 INFO DAGScheduler: Parents of final stage: List()\n",
      "24/03/01 12:54:10 INFO DAGScheduler: Missing parents: List()\n",
      "24/03/01 12:54:10 INFO DAGScheduler: Submitting ResultStage 2 (PythonRDD[2] at collect at /tmp/ipykernel_56411/3743736607.py:1), which has no missing parents\n",
      "24/03/01 12:54:10 INFO MemoryStore: Block broadcast_2 stored as values in memory (estimated size 5.9 KiB, free 413.9 MiB)\n",
      "24/03/01 12:54:10 INFO MemoryStore: Block broadcast_2_piece0 stored as bytes in memory (estimated size 4.0 KiB, free 413.9 MiB)\n",
      "24/03/01 12:54:10 INFO BlockManagerInfo: Added broadcast_2_piece0 in memory on host-192-168-2-34-de1:40527 (size: 4.0 KiB, free: 413.9 MiB)\n",
      "24/03/01 12:54:10 INFO SparkContext: Created broadcast 2 from broadcast at DAGScheduler.scala:1580\n",
      "24/03/01 12:54:10 INFO DAGScheduler: Submitting 2 missing tasks from ResultStage 2 (PythonRDD[2] at collect at /tmp/ipykernel_56411/3743736607.py:1) (first 15 tasks are for partitions Vector(0, 1))\n",
      "24/03/01 12:54:10 INFO TaskSchedulerImpl: Adding task set 2.0 with 2 tasks resource profile 0\n",
      "24/03/01 12:54:10 INFO TaskSetManager: Starting task 0.0 in stage 2.0 (TID 3) (host-192-168-2-34-de1, executor driver, partition 0, PROCESS_LOCAL, 13345 bytes) \n",
      "24/03/01 12:54:10 INFO TaskSetManager: Starting task 1.0 in stage 2.0 (TID 4) (host-192-168-2-34-de1, executor driver, partition 1, PROCESS_LOCAL, 13406 bytes) \n",
      "24/03/01 12:54:10 INFO Executor: Running task 0.0 in stage 2.0 (TID 3)\n",
      "24/03/01 12:54:10 INFO Executor: Running task 1.0 in stage 2.0 (TID 4)\n",
      "24/03/01 12:54:10 INFO BlockManagerInfo: Removed broadcast_1_piece0 on host-192-168-2-34-de1:40527 in memory (size: 4.0 KiB, free: 413.9 MiB)\n",
      "24/03/01 12:54:11 INFO PythonRunner: Times: total = 709, boot = -2908, init = 2918, finish = 699\n",
      "24/03/01 12:54:11 INFO Executor: Finished task 0.0 in stage 2.0 (TID 3). 9738 bytes result sent to driver\n",
      "24/03/01 12:54:11 INFO TaskSetManager: Finished task 0.0 in stage 2.0 (TID 3) in 774 ms on host-192-168-2-34-de1 (executor driver) (1/2)\n",
      "24/03/01 12:54:11 INFO PythonRunner: Times: total = 756, boot = -2909, init = 2955, finish = 710\n",
      "24/03/01 12:54:11 INFO Executor: Finished task 1.0 in stage 2.0 (TID 4). 9746 bytes result sent to driver\n"
     ]
    },
    {
     "name": "stdout",
     "output_type": "stream",
     "text": [
      "[[(0.0, 224.60036, 210.871, 0.0, -13.256)], [(0.0, 167.20934, 196.034, 0.0, -7.928)], [(0.0, 266.4224, 80.149, 0.0, -5.947)], [(0.0, 111.0722, 82.422, 0.0, -13.826)], [(0.0, 356.41424, 130.861, 0.0, -7.598)], [(0.0, 260.28363, 90.008, 0.0, -2.939)], [(0.0, 256.39138, 122.174, 0.0, -8.632)], [(0.0, 240.61342, 64.401, 0.0, -14.367)], [(0.0, 313.7824, 107.197, 0.0, -11.488)], [(0.0, 265.37751, 124.177, 0.0, -9.28)], [(0.0, 252.57751, 75.955, 0.0, -7.605)], [(0.0, 214.12526, 105.196, 0.0, -7.225)], [(0.0, 316.49914, 95.981, 0.0, -14.544)], [(0.0, 156.39465, 95.957, 0.0, -18.051)], [(0.0, 342.56934, 110.189, 0.0, -11.939)], [(0.0, 164.80608, 130.1, 0.0, -10.922)], [(0.0, 338.31138, 125.006, 0.0, -6.486)], [(0.0, 168.25424, 127.025, 0.0, -9.616)], [(0.0, 124.86485, 137.522, 0.0, -12.332)], [(0.0, 269.58322, 111.874, 0.0, -8.05)], [(0.0, 207.77751, 166.862, 0.0, -4.264)], [(0.0, 173.66159, 41.993, 0.0, -7.762)], [(0.0, 484.62322, 138.007, 0.0, -15.335)], [(0.0, 186.48771, 90.022, 0.0, -4.516)], [(0.0, 313.12934, 189.646, 0.0, -9.512)], [(0.0, 225.09669, 164.672, 0.0, -5.908)], [(0.0, 133.32853, 160.839, 0.0, -9.983)], [(0.0, 239.3073, 86.938, 0.0, -5.758)], [(0.0, 118.33424, 84.69, 0.0, -11.215)], [(0.0, 72.61995, 89.867, 0.0, -11.051)], [(0.0, 249.41669, 167.92, 0.0, -6.693)], [(0.0, 269.26975, 144.603, 0.0, -11.751)], [(0.0, 194.11546, 82.343, 0.0, -15.581)], [(0.0, 206.75873, 141.936, 0.0, -4.907)], [(0.0, 283.76771, 113.677, 0.0, -8.7)], [(0.0, 426.89261, 63.017, 0.0, -12.951)], [(0.0, 272.63955, 119.896, 0.0, -9.97)], [(0.0, 142.75873, 137.29, 0.0, -11.335)], [(0.0, 288.41751, 115.606, 0.0, -8.165)], [(0.0, 233.27302, 132.022, 0.0, -2.658)], [(0.0, 134.81751, 106.049, 0.0, -8.133)], [(0.0, 136.48934, 129.122, 0.0, -9.091)], [(0.0, 229.61587, 105.206, 0.0, -4.882)], [(0.0, 195.91791, 91.487, 0.0, -11.98)], [(0.0, 123.21914, 126.523, 0.0, -12.69)], [(0.0, 187.24526, 183.92, 0.0, -4.42)], [(0.0, 183.37914, 172.337, 0.0, -11.428)], [(0.0, 182.09914, 210.8, 0.0, -10.7)], [(0.0, 153.20771, 88.935, 0.0, -8.798)], [(0.0, 431.64689, 106.219, 0.0, -14.621)], [(0.0, 205.21751, 82.205, 0.0, -4.332)], [(0.0, 316.73424, 162.682, 0.0, -15.54)], [(0.0, 131.05587, 121.563, 0.0, -15.672)], [(0.0, 316.65587, 91.69, 0.0, -5.934)], [(0.0, 333.13914, 144.812, 0.0, -5.671)], [(0.0, 167.3922, 139.136, 0.0, -17.623)], [(0.0, 341.36771, 126.95, 0.0, -9.632)], [(0.0, 321.35791, 193.693, 0.0, -6.2)], [(0.0, 168.56771, 130.284, 0.0, -16.968)], [(0.0, 349.12608, 138.003, 0.0, -11.708)], [(0.0, 124.15955, 133.729, 0.0, -4.793)], [(0.0, 263.94077, 76.693, 0.0, -19.821)], [(0.0, 235.80689, 101.03, 0.0, -9.716)], [(0.0, 198.26893, 132.967, 0.0, -14.509)], [(0.0, 145.57995, 160.261, 0.0, -13.703)], [(0.0, 266.70975, 90.908, 0.0, -12.658)], [(0.0, 229.79873, 135.175, 0.0, -12.772)], [(0.0, 384.70485, 137.862, 0.0, -8.161)], [(0.0, 420.10077, 139.91, 0.0, -9.062)], [(0.0, 415.03302, 83.326, 0.0, -6.751)], [(0.0, 150.64771, 121.983, 0.0, -9.258)], [(0.0, 286.14485, 169.775, 0.0, -24.597)], [(0.0, 192.1824, 155.038, 0.0, -6.258)], [(0.0, 397.26975, 95.882, 0.0, -6.788)], [(0.0, 240.3522, 86.689, 0.0, -6.248)], [(0.0, 133.53751, 117.667, 0.0, -29.295)], [(0.0, 133.27628, 89.86, 0.0, -15.736)], [(0.0, 264.69832, 156.097, 0.0, -5.871)], [(0.0, 418.87302, 117.168, 0.0, -11.702)], [(0.0, 228.51873, 179.501, 0.0, -12.053)], [(0.0, 150.25587, 137.673, 0.0, -15.574)], [(0.0, 176.27383, 49.262, 0.0, -13.366)], [(0.0, 159.76444, 68.283, 0.0, -9.79)], [(0.0, 247.77098, 85.157, 0.0, -8.901)], [(0.0, 465.60608, 134.014, 0.0, -5.533)], [(0.0, 165.98159, 86.162, 0.0, -15.915)], [(0.0, 230.26893, 0.0, 0.0, -32.017)], [(0.0, 368.16934, 93.106, 0.0, -8.489)], [(0.0, 210.36363, 155.074, 0.0, -5.904)], [(0.0, 338.33751, 130.027, 0.0, -14.248)], [(0.0, 188.73424, 114.971, 0.0, -7.04)], [(0.0, 205.58322, 97.976, 0.0, -16.056)], [(0.0, 292.8322, 133.306, 0.0, -4.953)], [(0.0, 126.51057, 110.168, 0.0, -12.651)], [(0.0, 254.32771, 152.005, 0.0, -11.213)], [(0.0, 270.68036, 166.275, 0.0, -11.061)], [(0.0, 301.81832, 61.971, 0.0, -8.095)], [(0.0, 241.10975, 152.267, 0.0, -18.114)], [(0.0, 127.4771, 156.968, 0.0, -5.541)], [(0.0, 193.4624, 119.979, 0.0, -5.913)], [(0.0, 234.762, 188.886, 0.0, -6.019)], [(0.0, 211.80036, 144.651, 0.0, -15.358)], [(0.0, 266.39628, 114.041, 0.0, -6.697)], [(0.0, 209.60608, 129.738, 0.0, -4.501)], [(0.0, 267.7024, 147.782, 0.0, -9.323)], [(0.0, 177.47546, 100.07, 0.0, -9.689)], [(0.0, 148.03546, 121.274, 0.0, -9.843)], [(0.0, 189.57016, 101.43, 0.0, -11.642)], [(0.0, 233.40363, 119.293, 0.0, -9.013)], [(0.0, 269.81832, 86.643, 0.0, -13.496)], [(0.0, 114.78159, 111.787, 0.0, -17.302)], [(0.0, 218.93179, 92.198, 0.0, -11.197)], [(0.0, 218.77506, 146.765, 0.0, -10.021)], [(0.0, 122.72281, 192.688, 0.0, -9.965)], [(0.0, 413.36118, 191.196, 0.0, -8.804)], [(0.0, 285.36118, 150.666, 0.0, -6.284)], [(0.0, 123.66322, 104.153, 0.0, -4.633)], [(0.0, 217.36444, 100.023, 0.0, -5.152)], [(0.0, 416.80934, 124.04, 0.0, -7.982)], [(0.0, 225.12281, 175.421, 0.0, -3.818)], [(0.0, 117.002, 152.127, 0.0, -5.699)], [(0.0, 203.98975, 154.322, 0.0, -11.976)], [(0.0, 166.00771, 86.091, 0.0, -1.925)], [(0.0, 525.16526, 127.278, 0.0, -5.602)], [(0.0, 192.44363, 236.006, 0.0, -10.229)], [(0.0, 204.06812, 160.165, 0.0, -5.157)], [(0.0, 377.67791, 109.671, 0.0, -21.787)], [(0.0, 156.70812, 147.637, 0.0, -21.25)], [(0.0, 153.28608, 125.558, 0.0, -7.535)], [(0.0, 324.51873, 210.305, 0.0, -11.273)], [(0.0, 168.38485, 98.49, 0.0, -12.77)], [(0.0, 165.66812, 128.459, 0.0, -10.917)], [(0.0, 215.35302, 211.327, 0.0, -10.918)], [(0.0, 172.01587, 175.393, 0.0, -9.745)], [(0.0, 145.00526, 141.024, 0.0, -14.449)], [(0.0, 234.65751, 119.67, 0.0, -12.75)], [(0.0, 214.04689, 188.056, 0.0, -5.444)], [(0.0, 143.98649, 193.978, 0.0, -7.901)], [(0.0, 287.11138, 163.167, 0.0, -11.877)], [(0.0, 109.37424, 61.883, 0.0, -18.349)], [(0.0, 159.03302, 165.668, 0.0, -9.668)], [(0.0, 239.98649, 144.836, 0.0, -5.627)], [(0.0, 229.642, 108.499, 0.0, -1.998)], [(0.0, 151.82322, 0.0, 0.0, -20.964)], [(0.0, 163.76118, 105.181, 0.0, -10.328)], [(0.0, 301.06077, 143.97, 0.0, -4.144)], [(0.0, 179.06893, 161.054, 0.0, -17.522)], [(0.0, 284.3424, 151.953, 0.0, -6.546)], [(0.0, 100.5971, 159.895, 0.0, -10.777)], [(0.0, 320.60036, 128.219, 0.0, -9.993)], [(0.0, 160.28689, 86.141, 0.0, -15.578)], [(0.0, 70.26893, 128.173, 0.0, -16.942)], [(0.0, 288.49587, 160.022, 0.0, -5.912)], [(0.0, 151.53587, 101.492, 0.0, -7.108)], [(0.0, 239.01995, 106.398, 0.0, -10.274)], [(0.0, 38.3473, 107.177, 0.0, -16.006)], [(0.0, 233.58649, 89.78, 0.0, -3.937)], [(0.0, 173.24363, 88.835, 0.0, -6.021)], [(0.0, 191.81669, 90.084, 0.0, -38.525)], [(0.0, 148.03546, 162.385, 0.0, -6.893)], [(0.0, 485.19791, 134.083, 0.0, -7.614)], [(0.0, 181.55057, 120.097, 0.0, -9.334)], [(0.0, 155.74159, 105.24, 0.0, -13.135)], [(0.0, 100.85832, 152.258, 0.0, -19.794)], [(0.0, 177.24036, 106.698, 0.0, -1.843)], [(0.0, 285.17832, 110.787, 0.0, -8.488)], [(0.0, 200.25424, 127.97, 0.0, -5.884)], [(0.0, 298.84036, 113.277, 0.0, -9.998)], [(0.0, 144.50893, 152.622, 0.0, -7.787)], [(0.0, 84.03546, 115.642, 0.0, -26.266)], [(0.0, 161.38404, 96.979, 0.0, -9.161)], [(0.0, 273.52771, 125.013, 0.0, -6.305)], [(0.0, 246.69995, 112.903, 0.0, -9.603)], [(0.0, 209.29261, 140.995, 0.0, -4.865)], [(0.0, 184.31955, 150.012, 0.0, -5.58)], [(0.0, 239.59465, 172.398, 0.0, -9.275)], [(0.0, 311.40526, 108.367, 0.0, -4.313)], [(0.0, 261.95546, 100.194, 0.0, -13.627)], [(0.0, 171.49342, 109.823, 0.0, -37.398)], [(0.0, 266.05669, 90.101, 0.0, -13.836)], [(0.0, 235.91138, 161.976, 0.0, -10.466)], [(0.0, 254.06649, 137.888, 0.0, -6.01)], [(0.0, 162.53342, 173.482, 0.0, -17.285)], [(0.0, 220.89098, 119.691, 0.0, -6.302)], [(0.0, 198.922, 126.821, 0.0, -13.495)], [(0.0, 176.27383, 151.911, 0.0, -11.479)], [(0.0, 283.21914, 111.191, 0.0, -15.144)], [(0.0, 329.27302, 116.473, 0.0, -7.103)], [(0.0, 212.37506, 110.745, 0.0, -5.931)], [(0.0, 238.68036, 125.508, 0.0, -12.991)], [(0.0, 289.64526, 188.502, 0.0, -9.435)], [(0.0, 143.0722, 99.408, 0.0, -15.351)], [(0.0, 185.7824, 88.489, 0.0, -13.251)], [(0.0, 229.51138, 187.807, 0.0, -4.198)], [(0.0, 44.35546, 136.164, 0.0, -18.147)], [(0.0, 205.58322, 181.115, 0.0, -6.998)], [(0.0, 163.49995, 79.731, 0.0, -25.694)], [(0.0, 428.56444, 105.994, 0.0, -8.403)], [(0.0, 176.50893, 159.582, 0.0, -17.308)], [(0.0, 306.72934, 96.007, 0.0, -6.929)], [(0.0, 203.83302, 126.941, 0.0, -7.661)], [(0.0, 127.05914, 148.357, 0.0, -12.772)], [(0.0, 201.09016, 102.259, 0.0, -2.869)], [(0.0, 140.66893, 89.495, 0.0, -28.347)], [(0.0, 654.28853, 118.433, 0.0, -5.884)], [(0.0, 254.79791, 107.529, 0.0, -7.309)], [(0.0, 190.24934, 75.031, 0.0, -4.172)], [(0.0, 252.02893, 168.323, 0.0, -8.639)], [(0.0, 295.60118, 137.288, 0.0, -9.435)], [(0.0, 557.26975, 123.993, 0.0, -12.26)], [(0.0, 175.62077, 159.968, 0.0, -10.647)], [(0.0, 120.2673, 143.231, 0.0, -3.422)], [(0.0, 187.53261, 97.981, 0.0, -23.527)], [(0.0, 255.16363, 150.837, 0.0, -10.756)], [(0.0, 350.71955, 152.013, 0.0, -13.038)], [(0.0, 180.00934, 133.009, 0.0, -13.668)], [(0.0, 329.35138, 111.079, 0.0, -7.672)], [(0.0, 172.25098, 66.765, 0.0, -8.46)], [(0.0, 216.60689, 145.518, 0.0, -3.736)], [(0.0, 330.65751, 140.334, 0.0, -12.279)], [(0.0, 388.28363, 132.506, 0.0, -16.433)], [(0.0, 244.45342, 146.577, 0.0, -6.885)], [(0.0, 345.93914, 153.862, 0.0, -6.951)], [(0.0, 261.74649, 124.086, 0.0, -9.628)], [(0.0, 243.1473, 93.238, 0.0, -14.737)], [(0.0, 271.77751, 90.648, 0.0, -6.947)], [(0.0, 363.59791, 139.998, 0.0, -4.376)], [(0.0, 282.53995, 140.458, 0.0, -4.2)], [(0.0, 192.20853, 139.189, 0.0, -23.988)], [(0.0, 127.9473, 135.78, 0.0, -12.717)], [(0.0, 207.12444, 111.316, 0.0, -12.779)], [(0.0, 215.30077, 163.445, 0.0, -9.741)], [(0.0, 155.21914, 114.027, 0.0, -11.965)], [(0.0, 570.90567, 122.967, 0.0, -12.28)], [(0.0, 219.01016, 149.94, 0.0, -5.21)], [(0.0, 152.0322, 128.598, 0.0, -9.414)], [(0.0, 240.74404, 135.535, 0.0, -4.878)], [(0.0, 230.00771, 142.024, 0.0, -9.748)], [(0.0, 245.21098, 117.975, 0.0, -7.545)], [(0.0, 220.78649, 110.382, 0.0, -8.514)], [(0.0, 599.24853, 99.273, 0.0, -8.032)], [(0.0, 191.84281, 137.334, 0.0, -7.75)], [(0.0, 228.5971, 127.756, 0.0, -16.11)], [(0.0, 151.84934, 86.186, 0.0, -15.221)], [(0.0, 307.3824, 125.197, 0.0, -8.346)], [(0.0, 290.29832, 150.062, 0.0, -5.271)], [(0.0, 491.12771, 119.826, 0.0, -8.576)], [(0.0, 226.35057, 130.04, 0.0, -6.632)], [(0.0, 165.69424, 138.331, 0.0, -6.787)], [(0.0, 241.162, 180.149, 0.0, -8.531)], [(0.0, 187.92444, 116.823, 0.0, -5.907)], [(0.0, 165.61587, 174.287, 0.0, -6.222)], [(0.0, 122.64444, 102.538, 0.0, -8.541)], [(0.0, 276.50567, 101.972, 0.0, -4.638)], [(0.0, 228.93669, 107.961, 0.0, -8.686)], [(0.0, 207.0722, 84.164, 0.0, -6.629)], [(0.0, 190.04036, 205.317, 0.0, -14.179)], [(0.0, 206.05342, 133.144, 0.0, -11.506)], [(0.0, 228.46649, 137.004, 0.0, -12.412)], [(0.0, 300.79955, 124.175, 0.0, -13.33)], [(0.0, 239.59465, 106.33, 0.0, -21.552)], [(0.0, 269.7922, 90.218, 0.0, -11.043)], [(0.0, 277.78567, 89.984, 0.0, -6.944)], [(0.0, 175.72526, 141.919, 0.0, -10.93)], [(0.0, 450.84689, 130.586, 0.0, -9.063)], [(0.0, 198.73914, 115.061, 0.0, -7.469)], [(0.0, 271.49016, 139.333, 0.0, -10.358)], [(0.0, 226.66404, 117.271, 0.0, -12.716)], [(0.0, 251.42812, 86.091, 0.0, -12.009)], [(0.0, 248.78975, 116.721, 0.0, -7.805)], [(0.0, 344.05832, 154.953, 0.0, -9.253)], [(0.0, 303.09832, 128.292, 0.0, -8.879)], [(0.0, 217.23383, 95.596, 0.0, -9.493)], [(0.0, 128.83546, 90.932, 0.0, -17.699)], [(0.0, 195.3171, 123.142, 0.0, -10.7)], [(0.0, 190.48444, 102.428, 0.0, -15.663)], [(0.0, 95.68608, 115.887, 0.0, -2.022)], [(0.0, 456.30649, 89.667, 0.0, -19.478)], [(0.0, 168.75057, 97.099, 0.0, -8.91)], [(0.0, 327.8624, 125.975, 0.0, -6.531)], [(0.0, 201.56036, 140.63, 0.0, -2.069)], [(0.0, 303.04608, 210.47, 0.0, -10.57)], [(0.0, 284.70812, 98.859, 0.0, -8.339)], [(0.0, 185.67791, 101.41, 0.0, -16.844)], [(0.0, 286.30159, 154.09, 0.0, -6.933)], [(0.0, 356.49261, 124.237, 0.0, -4.178)], [(0.0, 224.522, 94.057, 0.0, -6.694)], [(0.0, 218.8273, 186.254, 0.0, -3.803)], [(0.0, 275.06893, 124.009, 0.0, -4.376)], [(0.0, 302.36689, 101.229, 0.0, -12.99)], [(0.0, 315.27138, 100.349, 0.0, -16.753)], [(0.0, 234.44853, 102.055, 0.0, -10.173)], [(0.0, 233.53424, 184.981, 0.0, -5.483)], [(0.0, 241.52771, 108.264, 0.0, -7.255)], [(0.0, 340.29669, 91.328, 0.0, -11.356)], [(0.0, 226.82077, 119.524, 0.0, -7.684)], [(0.0, 256.80934, 201.802, 0.0, -7.307)], [(0.0, 224.28689, 241.877, 0.0, -4.779)], [(0.0, 158.56281, 94.658, 0.0, -16.527)], [(0.0, 155.95057, 109.065, 0.0, -14.123)], [(0.0, 279.2224, 68.734, 0.0, -6.582)], [(0.0, 94.06649, 109.636, 0.0, -9.506)], [(0.0, 106.52689, 97.76, 0.0, -12.385)], [(0.0, 216.55465, 130.062, 0.0, -8.147)], [(0.0, 285.64853, 126.88, 0.0, -9.093)], [(0.0, 177.81506, 85.621, 0.0, -12.004)], [(0.0, 198.3473, 175.769, 0.0, -8.709)], [(0.0, 124.18567, 85.008, 0.0, -10.296)], [(0.0, 324.44036, 216.195, 0.0, -11.829)], [(0.0, 275.12118, 132.428, 0.0, -6.29)], [(0.0, 223.4771, 112.006, 0.0, -14.438)], [(0.0, 275.40853, 102.408, 0.0, -2.119)], [(0.0, 294.66077, 168.307, 0.0, -15.761)], [(0.0, 155.61098, 118.975, 0.0, -13.71)], [(0.0, 134.08608, 133.699, 0.0, -12.839)], [(0.0, 357.82485, 130.016, 0.0, -5.701)], [(0.0, 443.24526, 45.527, 0.0, -13.002)], [(0.0, 193.20118, 140.956, 0.0, -27.433)], [(0.0, 385.33179, 108.061, 0.0, -8.37)]]\n"
     ]
    },
    {
     "name": "stderr",
     "output_type": "stream",
     "text": [
      "24/03/01 12:54:11 INFO TaskSetManager: Finished task 1.0 in stage 2.0 (TID 4) in 802 ms on host-192-168-2-34-de1 (executor driver) (2/2)\n",
      "24/03/01 12:54:11 INFO DAGScheduler: ResultStage 2 (collect at /tmp/ipykernel_56411/3743736607.py:1) finished in 0.848 s\n",
      "24/03/01 12:54:11 INFO DAGScheduler: Job 2 is finished. Cancelling potential speculative or zombie tasks for this job\n",
      "24/03/01 12:54:11 INFO TaskSchedulerImpl: Removed TaskSet 2.0, whose tasks have all completed, from pool \n",
      "24/03/01 12:54:11 INFO TaskSchedulerImpl: Killing all running tasks in stage 2: Stage finished\n",
      "24/03/01 12:54:11 INFO DAGScheduler: Job 2 finished: collect at /tmp/ipykernel_56411/3743736607.py:1, took 0.858435 s\n",
      "                                                                                \r"
     ]
    }
   ],
   "source": [
    "print(files_infos_rdd.collect())"
   ]
  },
  {
   "cell_type": "markdown",
   "id": "897df25a-b182-41a3-92a1-f61f9492ddbe",
   "metadata": {},
   "source": [
    "# 4) Create Spark Data Frame"
   ]
  },
  {
   "cell_type": "code",
   "execution_count": 12,
   "id": "cb6348bf-0f3e-455e-af23-1bf886a2e451",
   "metadata": {},
   "outputs": [],
   "source": [
    "# Definiere das Schema für den DataFrame\n",
    "schema = StructType([\n",
    "    StructField(\"danceability\", FloatType(), True),\n",
    "    StructField(\"duration\", FloatType(), True),\n",
    "    StructField(\"tempo\", FloatType(), True),\n",
    "    StructField(\"energy\", FloatType(), True),\n",
    "    StructField(\"loudness\", FloatType(), True),\n",
    "])"
   ]
  },
  {
   "cell_type": "code",
   "execution_count": 13,
   "id": "1e51be1c-caa7-4443-8ecc-e0dece7f6603",
   "metadata": {},
   "outputs": [
    {
     "name": "stderr",
     "output_type": "stream",
     "text": [
      "24/03/01 12:54:15 INFO BlockManagerInfo: Removed broadcast_0_piece0 on host-192-168-2-34-de1:40527 in memory (size: 3.8 KiB, free: 413.9 MiB)\n",
      "24/03/01 12:54:15 INFO BlockManagerInfo: Removed broadcast_2_piece0 on host-192-168-2-34-de1:40527 in memory (size: 4.0 KiB, free: 413.9 MiB)\n",
      "24/03/01 12:54:15 INFO SharedState: Setting hive.metastore.warehouse.dir ('null') to the value of spark.sql.warehouse.dir.\n",
      "24/03/01 12:54:15 INFO SharedState: Warehouse path is 'file:/home/ubuntu/dataeng1/Project/spark-warehouse'.\n"
     ]
    }
   ],
   "source": [
    "spark_df = sqlContext.createDataFrame(files_infos_rdd.flatMap(lambda x: x), schema=schema)"
   ]
  },
  {
   "cell_type": "code",
   "execution_count": 14,
   "id": "0da17ea8-b186-406f-bf62-f36affa66f86",
   "metadata": {},
   "outputs": [
    {
     "name": "stderr",
     "output_type": "stream",
     "text": [
      "24/03/01 12:54:19 INFO CodeGenerator: Code generated in 494.50861 ms\n",
      "24/03/01 12:54:19 INFO SparkContext: Starting job: showString at NativeMethodAccessorImpl.java:0\n",
      "24/03/01 12:54:20 INFO DAGScheduler: Got job 3 (showString at NativeMethodAccessorImpl.java:0) with 1 output partitions\n",
      "24/03/01 12:54:20 INFO DAGScheduler: Final stage: ResultStage 3 (showString at NativeMethodAccessorImpl.java:0)\n",
      "24/03/01 12:54:20 INFO DAGScheduler: Parents of final stage: List()\n",
      "24/03/01 12:54:20 INFO DAGScheduler: Missing parents: List()\n",
      "24/03/01 12:54:20 INFO DAGScheduler: Submitting ResultStage 3 (MapPartitionsRDD[8] at showString at NativeMethodAccessorImpl.java:0), which has no missing parents\n",
      "24/03/01 12:54:20 INFO MemoryStore: Block broadcast_3 stored as values in memory (estimated size 22.3 KiB, free 413.9 MiB)\n",
      "24/03/01 12:54:20 INFO MemoryStore: Block broadcast_3_piece0 stored as bytes in memory (estimated size 10.4 KiB, free 413.9 MiB)\n",
      "24/03/01 12:54:20 INFO BlockManagerInfo: Added broadcast_3_piece0 in memory on host-192-168-2-34-de1:40527 (size: 10.4 KiB, free: 413.9 MiB)\n",
      "24/03/01 12:54:20 INFO SparkContext: Created broadcast 3 from broadcast at DAGScheduler.scala:1580\n",
      "24/03/01 12:54:20 INFO DAGScheduler: Submitting 1 missing tasks from ResultStage 3 (MapPartitionsRDD[8] at showString at NativeMethodAccessorImpl.java:0) (first 15 tasks are for partitions Vector(0))\n",
      "24/03/01 12:54:20 INFO TaskSchedulerImpl: Adding task set 3.0 with 1 tasks resource profile 0\n",
      "24/03/01 12:54:20 INFO TaskSetManager: Starting task 0.0 in stage 3.0 (TID 5) (host-192-168-2-34-de1, executor driver, partition 0, PROCESS_LOCAL, 13345 bytes) \n",
      "24/03/01 12:54:20 INFO Executor: Running task 0.0 in stage 3.0 (TID 5)\n",
      "24/03/01 12:54:20 INFO CodeGenerator: Code generated in 107.747654 ms\n",
      "24/03/01 12:54:20 INFO Executor: Finished task 0.0 in stage 3.0 (TID 5). 2682 bytes result sent to driver\n",
      "24/03/01 12:54:20 INFO TaskSetManager: Finished task 0.0 in stage 3.0 (TID 5) in 835 ms on host-192-168-2-34-de1 (executor driver) (1/1)\n",
      "24/03/01 12:54:20 INFO DAGScheduler: ResultStage 3 (showString at NativeMethodAccessorImpl.java:0) finished in 0.896 s\n",
      "24/03/01 12:54:20 INFO DAGScheduler: Job 3 is finished. Cancelling potential speculative or zombie tasks for this job\n",
      "24/03/01 12:54:20 INFO TaskSchedulerImpl: Removed TaskSet 3.0, whose tasks have all completed, from pool \n",
      "24/03/01 12:54:20 INFO TaskSchedulerImpl: Killing all running tasks in stage 3: Stage finished\n",
      "24/03/01 12:54:20 INFO DAGScheduler: Job 3 finished: showString at NativeMethodAccessorImpl.java:0, took 0.922152 s\n",
      "24/03/01 12:54:21 INFO BlockManagerInfo: Removed broadcast_3_piece0 on host-192-168-2-34-de1:40527 in memory (size: 10.4 KiB, free: 413.9 MiB)\n"
     ]
    },
    {
     "name": "stdout",
     "output_type": "stream",
     "text": [
      "+------------+---------+-------+------+--------+\n",
      "|danceability| duration|  tempo|energy|loudness|\n",
      "+------------+---------+-------+------+--------+\n",
      "|         0.0|224.60036|210.871|   0.0| -13.256|\n",
      "|         0.0|167.20934|196.034|   0.0|  -7.928|\n",
      "|         0.0| 266.4224| 80.149|   0.0|  -5.947|\n",
      "|         0.0| 111.0722| 82.422|   0.0| -13.826|\n",
      "|         0.0|356.41425|130.861|   0.0|  -7.598|\n",
      "|         0.0|260.28363| 90.008|   0.0|  -2.939|\n",
      "|         0.0| 256.3914|122.174|   0.0|  -8.632|\n",
      "|         0.0|240.61342| 64.401|   0.0| -14.367|\n",
      "|         0.0| 313.7824|107.197|   0.0| -11.488|\n",
      "|         0.0| 265.3775|124.177|   0.0|   -9.28|\n",
      "|         0.0|252.57751| 75.955|   0.0|  -7.605|\n",
      "|         0.0|214.12526|105.196|   0.0|  -7.225|\n",
      "|         0.0|316.49915| 95.981|   0.0| -14.544|\n",
      "|         0.0|156.39465| 95.957|   0.0| -18.051|\n",
      "|         0.0|342.56934|110.189|   0.0| -11.939|\n",
      "|         0.0|164.80608|  130.1|   0.0| -10.922|\n",
      "|         0.0|338.31137|125.006|   0.0|  -6.486|\n",
      "|         0.0|168.25424|127.025|   0.0|  -9.616|\n",
      "|         0.0|124.86485|137.522|   0.0| -12.332|\n",
      "|         0.0|269.58322|111.874|   0.0|   -8.05|\n",
      "+------------+---------+-------+------+--------+\n",
      "only showing top 20 rows\n",
      "\n"
     ]
    },
    {
     "name": "stderr",
     "output_type": "stream",
     "text": [
      "24/03/01 12:54:23 INFO CodeGenerator: Code generated in 72.622655 ms\n"
     ]
    }
   ],
   "source": [
    "# Zeige den DataFrame-Inhalt\n",
    "spark_df.show()"
   ]
  },
  {
   "cell_type": "markdown",
   "id": "e75edaf8-3e1f-4173-8f65-b8852bb3b27e",
   "metadata": {},
   "source": [
    "# Calculation (Average)"
   ]
  },
  {
   "cell_type": "code",
   "execution_count": 15,
   "id": "f17d4735-196d-40f3-87be-b41dcdabfafc",
   "metadata": {},
   "outputs": [
    {
     "name": "stderr",
     "output_type": "stream",
     "text": [
      "24/03/01 12:54:24 INFO CodeGenerator: Code generated in 159.97677 ms\n",
      "24/03/01 12:54:24 INFO DAGScheduler: Registering RDD 10 (collect at /tmp/ipykernel_56411/3998951206.py:1) as input to shuffle 0\n",
      "24/03/01 12:54:24 INFO DAGScheduler: Got map stage job 4 (collect at /tmp/ipykernel_56411/3998951206.py:1) with 2 output partitions\n",
      "24/03/01 12:54:24 INFO DAGScheduler: Final stage: ShuffleMapStage 4 (collect at /tmp/ipykernel_56411/3998951206.py:1)\n",
      "24/03/01 12:54:24 INFO DAGScheduler: Parents of final stage: List()\n",
      "24/03/01 12:54:24 INFO DAGScheduler: Missing parents: List()\n",
      "24/03/01 12:54:24 INFO DAGScheduler: Submitting ShuffleMapStage 4 (MapPartitionsRDD[10] at collect at /tmp/ipykernel_56411/3998951206.py:1), which has no missing parents\n",
      "24/03/01 12:54:24 INFO MemoryStore: Block broadcast_4 stored as values in memory (estimated size 36.3 KiB, free 413.9 MiB)\n",
      "24/03/01 12:54:24 INFO MemoryStore: Block broadcast_4_piece0 stored as bytes in memory (estimated size 15.5 KiB, free 413.9 MiB)\n",
      "24/03/01 12:54:24 INFO BlockManagerInfo: Added broadcast_4_piece0 in memory on host-192-168-2-34-de1:40527 (size: 15.5 KiB, free: 413.9 MiB)\n",
      "24/03/01 12:54:24 INFO SparkContext: Created broadcast 4 from broadcast at DAGScheduler.scala:1580\n",
      "24/03/01 12:54:24 INFO DAGScheduler: Submitting 2 missing tasks from ShuffleMapStage 4 (MapPartitionsRDD[10] at collect at /tmp/ipykernel_56411/3998951206.py:1) (first 15 tasks are for partitions Vector(0, 1))\n",
      "24/03/01 12:54:24 INFO TaskSchedulerImpl: Adding task set 4.0 with 2 tasks resource profile 0\n",
      "24/03/01 12:54:24 INFO TaskSetManager: Starting task 0.0 in stage 4.0 (TID 6) (host-192-168-2-34-de1, executor driver, partition 0, PROCESS_LOCAL, 13334 bytes) \n",
      "24/03/01 12:54:24 INFO TaskSetManager: Starting task 1.0 in stage 4.0 (TID 7) (host-192-168-2-34-de1, executor driver, partition 1, PROCESS_LOCAL, 13395 bytes) \n",
      "24/03/01 12:54:24 INFO Executor: Running task 0.0 in stage 4.0 (TID 6)\n",
      "24/03/01 12:54:24 INFO Executor: Running task 1.0 in stage 4.0 (TID 7)\n",
      "24/03/01 12:54:24 INFO CodeGenerator: Code generated in 248.61378 ms\n",
      "24/03/01 12:54:25 INFO PythonRunner: Times: total = 865, boot = -12827, init = 12841, finish = 851\n",
      "24/03/01 12:54:25 INFO Executor: Finished task 0.0 in stage 4.0 (TID 6). 2328 bytes result sent to driver\n",
      "24/03/01 12:54:25 INFO TaskSetManager: Finished task 0.0 in stage 4.0 (TID 6) in 1047 ms on host-192-168-2-34-de1 (executor driver) (1/2)\n",
      "24/03/01 12:54:25 INFO PythonRunner: Times: total = 1049, boot = 43, init = 284, finish = 722\n",
      "24/03/01 12:54:25 INFO Executor: Finished task 1.0 in stage 4.0 (TID 7). 2285 bytes result sent to driver\n",
      "24/03/01 12:54:25 INFO TaskSetManager: Finished task 1.0 in stage 4.0 (TID 7) in 1143 ms on host-192-168-2-34-de1 (executor driver) (2/2)\n",
      "24/03/01 12:54:25 INFO TaskSchedulerImpl: Removed TaskSet 4.0, whose tasks have all completed, from pool \n",
      "24/03/01 12:54:25 INFO DAGScheduler: ShuffleMapStage 4 (collect at /tmp/ipykernel_56411/3998951206.py:1) finished in 1.214 s\n",
      "24/03/01 12:54:25 INFO DAGScheduler: looking for newly runnable stages\n",
      "24/03/01 12:54:25 INFO DAGScheduler: running: Set()\n",
      "24/03/01 12:54:25 INFO DAGScheduler: waiting: Set()\n",
      "24/03/01 12:54:25 INFO DAGScheduler: failed: Set()\n",
      "24/03/01 12:54:25 INFO CodeGenerator: Code generated in 136.100689 ms\n",
      "24/03/01 12:54:25 INFO SparkContext: Starting job: collect at /tmp/ipykernel_56411/3998951206.py:1\n",
      "24/03/01 12:54:25 INFO DAGScheduler: Got job 5 (collect at /tmp/ipykernel_56411/3998951206.py:1) with 1 output partitions\n",
      "24/03/01 12:54:25 INFO DAGScheduler: Final stage: ResultStage 6 (collect at /tmp/ipykernel_56411/3998951206.py:1)\n",
      "24/03/01 12:54:25 INFO DAGScheduler: Parents of final stage: List(ShuffleMapStage 5)\n",
      "24/03/01 12:54:25 INFO DAGScheduler: Missing parents: List()\n",
      "24/03/01 12:54:25 INFO DAGScheduler: Submitting ResultStage 6 (MapPartitionsRDD[13] at collect at /tmp/ipykernel_56411/3998951206.py:1), which has no missing parents\n",
      "24/03/01 12:54:25 INFO BlockManagerInfo: Removed broadcast_4_piece0 on host-192-168-2-34-de1:40527 in memory (size: 15.5 KiB, free: 413.9 MiB)\n",
      "24/03/01 12:54:25 INFO MemoryStore: Block broadcast_5 stored as values in memory (estimated size 23.4 KiB, free 413.9 MiB)\n",
      "24/03/01 12:54:25 INFO MemoryStore: Block broadcast_5_piece0 stored as bytes in memory (estimated size 8.8 KiB, free 413.9 MiB)\n",
      "24/03/01 12:54:25 INFO BlockManagerInfo: Added broadcast_5_piece0 in memory on host-192-168-2-34-de1:40527 (size: 8.8 KiB, free: 413.9 MiB)\n",
      "24/03/01 12:54:25 INFO SparkContext: Created broadcast 5 from broadcast at DAGScheduler.scala:1580\n",
      "24/03/01 12:54:25 INFO DAGScheduler: Submitting 1 missing tasks from ResultStage 6 (MapPartitionsRDD[13] at collect at /tmp/ipykernel_56411/3998951206.py:1) (first 15 tasks are for partitions Vector(0))\n",
      "24/03/01 12:54:25 INFO TaskSchedulerImpl: Adding task set 6.0 with 1 tasks resource profile 0\n",
      "24/03/01 12:54:25 INFO TaskSetManager: Starting task 0.0 in stage 6.0 (TID 8) (host-192-168-2-34-de1, executor driver, partition 0, NODE_LOCAL, 7615 bytes) \n",
      "24/03/01 12:54:25 INFO Executor: Running task 0.0 in stage 6.0 (TID 8)\n",
      "24/03/01 12:54:26 INFO ShuffleBlockFetcherIterator: Getting 2 (194.0 B) non-empty blocks including 2 (194.0 B) local and 0 (0.0 B) host-local and 0 (0.0 B) push-merged-local and 0 (0.0 B) remote blocks\n",
      "24/03/01 12:54:26 INFO ShuffleBlockFetcherIterator: Started 0 remote fetches in 26 ms\n",
      "24/03/01 12:54:26 INFO CodeGenerator: Code generated in 100.123608 ms\n",
      "24/03/01 12:54:26 INFO Executor: Finished task 0.0 in stage 6.0 (TID 8). 4018 bytes result sent to driver\n",
      "24/03/01 12:54:26 INFO TaskSetManager: Finished task 0.0 in stage 6.0 (TID 8) in 241 ms on host-192-168-2-34-de1 (executor driver) (1/1)\n",
      "24/03/01 12:54:26 INFO DAGScheduler: ResultStage 6 (collect at /tmp/ipykernel_56411/3998951206.py:1) finished in 0.282 s\n",
      "24/03/01 12:54:26 INFO DAGScheduler: Job 5 is finished. Cancelling potential speculative or zombie tasks for this job\n",
      "24/03/01 12:54:26 INFO TaskSchedulerImpl: Removed TaskSet 6.0, whose tasks have all completed, from pool \n",
      "24/03/01 12:54:26 INFO TaskSchedulerImpl: Killing all running tasks in stage 6: Stage finished\n",
      "24/03/01 12:54:26 INFO DAGScheduler: Job 5 finished: collect at /tmp/ipykernel_56411/3998951206.py:1, took 0.337289 s\n",
      "                                                                                \r"
     ]
    },
    {
     "name": "stdout",
     "output_type": "stream",
     "text": [
      "Average Values::\n",
      "avg(duration): 236.8841377784466\n",
      "avg(tempo): 125.78977758234197\n",
      "avg(energy): 0.0\n",
      "avg(danceability): 0.0\n",
      "avg(loudness): -10.435855814655746\n"
     ]
    }
   ],
   "source": [
    "average_values = spark_df.agg({'danceability': 'avg', 'duration': 'avg', 'tempo': 'avg', 'energy': 'avg', 'loudness': 'avg'}).collect()[0]\n",
    "print(\"Average Values::\")\n",
    "for col_name, avg_value in average_values.asDict().items():\n",
    "    print(f\"{col_name}: {avg_value}\")"
   ]
  },
  {
   "cell_type": "markdown",
   "id": "805ca167-67d5-4b4e-857c-b11709b1698e",
   "metadata": {},
   "source": [
    "# STOP SPARK"
   ]
  },
  {
   "cell_type": "code",
   "execution_count": 16,
   "id": "c23825d7-4cce-458e-82bc-b4dc6995cf06",
   "metadata": {},
   "outputs": [
    {
     "name": "stderr",
     "output_type": "stream",
     "text": [
      "24/03/01 12:54:28 INFO SparkContext: SparkContext is stopping with exitCode 0.\n",
      "24/03/01 12:54:28 INFO SparkUI: Stopped Spark web UI at http://host-192-168-2-34-de1:4040\n",
      "24/03/01 12:54:28 INFO MapOutputTrackerMasterEndpoint: MapOutputTrackerMasterEndpoint stopped!\n",
      "24/03/01 12:54:28 INFO MemoryStore: MemoryStore cleared\n",
      "24/03/01 12:54:28 INFO BlockManager: BlockManager stopped\n",
      "24/03/01 12:54:28 INFO BlockManagerMaster: BlockManagerMaster stopped\n",
      "24/03/01 12:54:28 INFO OutputCommitCoordinator$OutputCommitCoordinatorEndpoint: OutputCommitCoordinator stopped!\n",
      "24/03/01 12:54:28 INFO SparkContext: Successfully stopped SparkContext\n"
     ]
    }
   ],
   "source": [
    "# release the cores\n",
    "spark_context.stop()"
   ]
  }
 ],
 "metadata": {
  "kernelspec": {
   "display_name": "Python 3 (ipykernel)",
   "language": "python",
   "name": "python3"
  },
  "language_info": {
   "codemirror_mode": {
    "name": "ipython",
    "version": 3
   },
   "file_extension": ".py",
   "mimetype": "text/x-python",
   "name": "python",
   "nbconvert_exporter": "python",
   "pygments_lexer": "ipython3",
   "version": "3.8.10"
  }
 },
 "nbformat": 4,
 "nbformat_minor": 5
}
