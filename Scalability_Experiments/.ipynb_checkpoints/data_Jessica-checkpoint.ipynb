{
 "cells": [
  {
   "cell_type": "code",
   "execution_count": 2,
   "id": "ff3a4970-6a2f-4b92-89f9-e53f63c575bc",
   "metadata": {},
   "outputs": [],
   "source": [
    "from pyspark import SparkContext, SparkConf\n",
    "from pyspark.sql import SparkSession, SQLContext"
   ]
  },
  {
   "cell_type": "code",
   "execution_count": 7,
   "id": "55349a64-09d8-4952-a6d1-aa50c1a1200b",
   "metadata": {},
   "outputs": [],
   "source": [
    "def create_spark_session(num_workers, cpu, memory):\n",
    "    # Spark_session with different number of workers, cpu and memory\n",
    "    spark_session = SparkSession.builder \\\n",
    "        .appName(\"Jessica_workers_\"+ str(num_workers) + \"_cpu_\" + str(cpu) + \"_memory_\" + str(memory)) \\\n",
    "        .master(\"yarn\") \\\n",
    "        .config(\"spark.executor.instances\", num_workers) \\\n",
    "        .config(\"spark.executor.cores\", cpu) \\\n",
    "        .config(\"spark.executor.memory\", memory) \\ \n",
    "        .config(\"spark.hadoop.fs.default.name\", \"hdfs://master-node:9000\") \\\n",
    "        .config(\"spark.hadoop.fs.defaultFS\", \"hdfs://master-node:9000\") \\\n",
    "        .config(\"spark.hadoop.fs.hdfs.impl\", \"org.apache.hadoop.hdfs.DistributedFileSystem\") \\\n",
    "        .config(\"spark.hadoop.dfs.server.namenode.class\", \"org.apache.hadoop.hdfs.server.namenode.NameNode\") \\\n",
    "        .config(\"spark.hadoop.conf\", \"org.apache.hadoop.hdfs.HdfsConfiguration\") \\\n",
    "        .getOrCreate()\n",
    "    \n",
    "    spark_context = spark_session.sparkContext\n",
    "    spark_context.setLogLevel(\"WARN\")\n",
    "    sqlContext = SQLContext(spark_context)\n",
    "    \n",
    "    return spark_session"
   ]
  },
  {
   "cell_type": "code",
   "execution_count": 8,
   "id": "8c381995-b875-476e-9568-cd11f70a4fca",
   "metadata": {},
   "outputs": [
    {
     "name": "stderr",
     "output_type": "stream",
     "text": [
      "24/03/15 08:01:28 WARN SparkSession: Using an existing Spark session; only runtime SQL configurations will take effect.\n",
      "24/03/15 08:01:29 WARN Utils: Service 'SparkUI' could not bind on port 4040. Attempting port 4041.\n",
      "24/03/15 08:01:29 WARN Utils: Service 'SparkUI' could not bind on port 4041. Attempting port 4042.\n",
      "24/03/15 08:01:29 WARN Client: Neither spark.yarn.jars nor spark.yarn.archive is set, falling back to uploading libraries under SPARK_HOME.\n"
     ]
    }
   ],
   "source": [
    "# Measure time taken for computations with different number of workers\n",
    "for num_workers in [1, 2]:\n",
    "    for cpu in [1, 2]:\n",
    "        for memory in [2048, 4096]:\n",
    "\n",
    "            spark_session = create_spark_session(num_workers, cpu, memory)\n",
    "            spark_session.stop()"
   ]
  },
  {
   "cell_type": "code",
   "execution_count": null,
   "id": "56820f53-e865-4157-8d63-4feaa0304d9b",
   "metadata": {},
   "outputs": [],
   "source": []
  }
 ],
 "metadata": {
  "kernelspec": {
   "display_name": "Python 3 (ipykernel)",
   "language": "python",
   "name": "python3"
  },
  "language_info": {
   "codemirror_mode": {
    "name": "ipython",
    "version": 3
   },
   "file_extension": ".py",
   "mimetype": "text/x-python",
   "name": "python",
   "nbconvert_exporter": "python",
   "pygments_lexer": "ipython3",
   "version": "3.8.10"
  }
 },
 "nbformat": 4,
 "nbformat_minor": 5
}
